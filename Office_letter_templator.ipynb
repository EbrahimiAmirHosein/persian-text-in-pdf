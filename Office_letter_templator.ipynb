{
  "nbformat": 4,
  "nbformat_minor": 0,
  "metadata": {
    "colab": {
      "provenance": [],
      "collapsed_sections": []
    },
    "kernelspec": {
      "name": "python3",
      "display_name": "Python 3"
    },
    "language_info": {
      "name": "python"
    }
  },
  "cells": [
    {
      "cell_type": "markdown",
      "source": [
        "# Adding persian text to PDF file "
      ],
      "metadata": {
        "id": "YVVN6__KwfJo"
      }
    },
    {
      "cell_type": "markdown",
      "source": [
        "# Install required dependencies"
      ],
      "metadata": {
        "id": "CwMcqeRemN5I"
      }
    },
    {
      "cell_type": "code",
      "source": [
        "!pip install PyPDF2\n",
        "!pip install reportlab\n",
        "!pip install --upgrade arabic-reshaper\n",
        "!pip install python-bidi"
      ],
      "metadata": {
        "id": "c_RLh7WKmcLM"
      },
      "execution_count": null,
      "outputs": []
    },
    {
      "cell_type": "markdown",
      "source": [
        "# Downloading B-mitra font"
      ],
      "metadata": {
        "id": "mi367zUFwPD0"
      }
    },
    {
      "cell_type": "code",
      "source": [
        "'''\n",
        "https://drive.google.com/file/d/1QDlOYTzI7YzO2h8mgrbUl3jWDr-69KJN/view?usp=share_link\n",
        "\n",
        "ID =  1QDlOYTzI7YzO2h8mgrbUl3jWDr-69KJN\n",
        "\n",
        "'''\n",
        "\n",
        "!gdown --id 1QDlOYTzI7YzO2h8mgrbUl3jWDr-69KJN \n"
      ],
      "metadata": {
        "colab": {
          "base_uri": "https://localhost:8080/"
        },
        "id": "azjPHFGWpVJG",
        "outputId": "a7a1449d-b3ae-4d4b-e838-a2e0efd3ff21"
      },
      "execution_count": 33,
      "outputs": [
        {
          "output_type": "stream",
          "name": "stdout",
          "text": [
            "/usr/local/lib/python3.7/dist-packages/gdown/cli.py:131: FutureWarning: Option `--id` was deprecated in version 4.3.1 and will be removed in 5.0. You don't need to pass it anymore to use a file ID.\n",
            "  category=FutureWarning,\n",
            "Downloading...\n",
            "From: https://drive.google.com/uc?id=1QDlOYTzI7YzO2h8mgrbUl3jWDr-69KJN\n",
            "To: /content/B Mitra_0.ttf\n",
            "100% 58.8k/58.8k [00:00<00:00, 51.7MB/s]\n"
          ]
        }
      ]
    },
    {
      "cell_type": "code",
      "execution_count": 28,
      "metadata": {
        "id": "G5K01gXvkIE2"
      },
      "outputs": [],
      "source": [
        "from PyPDF2 import PdfFileWriter, PdfFileReader\n",
        "import io\n",
        "from reportlab.pdfgen import canvas\n",
        "from reportlab.pdfbase import pdfmetrics\n",
        "from reportlab.lib.pagesizes import letter\n",
        "import arabic_reshaper\n",
        "from bidi.algorithm import get_display"
      ]
    },
    {
      "cell_type": "code",
      "source": [
        "def letter_draw(Input_pdf_name,\n",
        "                Output_pdf_name,\n",
        "                First_text,\n",
        "                Second_text,\n",
        "                First_text_coord,\n",
        "                Second_text_coord,\n",
        "                Font_size):\n",
        "  '''\n",
        "\n",
        "  Input_pdf_name = PDF name you want to edit - Type = String\n",
        "  Output_pdf_name = PDF name you want the edited version save as - Type = String\n",
        "  First text = First text you want to add to your pdf\n",
        "  Second text = Second text you want to add to your pdf \n",
        "  First_text_coord = coordinate related to the first text - Type = Tuple,  ex. (x,y)-> (10,100)  \n",
        "  Second_text_coord = coordinate related to the second text - Type = Tuple \n",
        "  font Size = font size of persian text -> Type - integer\n",
        "\n",
        "  '''\n",
        "\n",
        "  pdfmetrics.registerFont(TTFont('B mitra', 'B Mitra_0.ttf'))\n",
        "\n",
        "  First_text = arabic_reshaper.reshape(First_text)    # correct its shape\n",
        "  First_text = get_display(First_text) \n",
        "  packet = io.BytesIO()\n",
        "  can = canvas.Canvas(packet, pagesize=letter)\n",
        "  can.setFont('B mitra', 32)\n",
        "  can.drawString(First_text_coord[0], First_text_coord[1], First_text)\n",
        "  can.drawString(Second_text_coord[0], Second_text_coord[1], Second_text)\n",
        "  can.save()\n",
        "\n",
        "  packet.seek(0)\n",
        "\n",
        "  new_pdf = PdfFileReader(packet)\n",
        "  existing_pdf = PdfFileReader(open(Input_pdf_name, \"rb\"))\n",
        "  output = PdfFileWriter()\n",
        "  page = existing_pdf.getPage(0)\n",
        "  page.mergePage(new_pdf.getPage(0))\n",
        "  output.addPage(page)\n",
        "  outputStream = open(Output_pdf_name, \"wb\")\n",
        "  output.write(outputStream)\n",
        "  outputStream.close()"
      ],
      "metadata": {
        "id": "8lF8AWEjkjwb"
      },
      "execution_count": 38,
      "outputs": []
    },
    {
      "cell_type": "code",
      "source": [
        "letter_draw(Input_pdf_name = \"input.pdf\",\n",
        "                Output_pdf_name = \"output.pdf\",\n",
        "                First_text = \"مصطفی رحمانی\",\n",
        "                Second_text =  \"24/242345\",\n",
        "                First_text_coord = (500,300),\n",
        "                Second_text_coord = (5,30),\n",
        "                Font_size = 23\n",
        "                )"
      ],
      "metadata": {
        "id": "eTyaOUIJkpyJ"
      },
      "execution_count": 37,
      "outputs": []
    }
  ]
}